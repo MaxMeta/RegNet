{
 "cells": [
  {
   "cell_type": "code",
   "execution_count": null,
   "id": "70819ba6",
   "metadata": {},
   "outputs": [],
   "source": [
    "from Bio import SeqIO\n",
    "import os\n",
    "import pandas as pd\n",
    "import itertools\n",
    "import math\n",
    "import numpy as np\n",
    "from scipy.stats import binom\n",
    "from statsmodels.stats import multitest"
   ]
  },
  {
   "cell_type": "markdown",
   "id": "8eb469ef",
   "metadata": {},
   "source": [
    "**Author:** Jeremy Owen\n",
    "\n",
    "\n",
    "**Description:** A preliminary attempt at analysing patterns of regulatory gene co-occurance in biosynthetic gene clusters.\n",
    "\n",
    "\n",
    "**Link for dataset:** https://zenodo.org/record/7658989#.Y_Pkh-xBxJU"
   ]
  },
  {
   "cell_type": "markdown",
   "id": "df6b10ba",
   "metadata": {},
   "source": [
    "\n"
   ]
  },
  {
   "cell_type": "code",
   "execution_count": null,
   "id": "a17b3829",
   "metadata": {},
   "outputs": [],
   "source": [
    "#download dataset from link in markdown cell above, add link to unzipped folder below\n",
    "big_strep_dir = \"/put/your/path/here\""
   ]
  },
  {
   "cell_type": "code",
   "execution_count": 1,
   "id": "7f7fc829",
   "metadata": {},
   "outputs": [],
   "source": [
    "def count_cds_features_with_pattern(genbank_file, pattern):\n",
    "    # Read the GenBank file\n",
    "    record = SeqIO.read(genbank_file, \"genbank\")\n",
    "\n",
    "    # Iterate over all the features in the GenBank record\n",
    "    counts = {}\n",
    "    for feature in record.features:\n",
    "        # Check if the feature is a CDS feature and contains the pattern\n",
    "        if feature.type == \"CDS\" and \"gene_kind\" in feature.qualifiers:\n",
    "            if pattern in feature.qualifiers[\"gene_kind\"]:\n",
    "                #print (feature.qualifiers[\"gene_functions\"])\n",
    "                try:\n",
    "                    reg_type = feature.qualifiers[\"gene_functions\"][0].split(\":\")[1].split(\"(\")[0]\n",
    "                    \n",
    "                except:\n",
    "                    #strange formatting crops up sometimes, try/except to prevent breakage\n",
    "                    #print(feature.qualifiers[\"gene_functions\"][0], feature.qualifiers[\"gene_kind\"])\n",
    "                    reg_type = feature.qualifiers[\"gene_functions\"][0]\n",
    "                \n",
    "                if \"E-value\" in reg_type:\n",
    "                    #print(feature.qualifiers[\"gene_functions\"][0], feature.qualifiers[\"gene_kind\"])\n",
    "                    #reg_type = reg_type = feature.qualifiers[\"gene_functions\"][0]\n",
    "                    reg_type = \"pkinase\"\n",
    "                    # in every case examined of like a thousand, this was the case\n",
    "                #print(reg_type)\n",
    "                counts[reg_type] = counts.get(reg_type, 0) + 1\n",
    "\n",
    "    # Return the counts as a dictionary\n",
    "    return(counts)"
   ]
  },
  {
   "cell_type": "code",
   "execution_count": 8,
   "id": "ab950136",
   "metadata": {},
   "outputs": [],
   "source": [
    "def get_gbk_files(input_dir,exlude_pattern = 'genome'):\n",
    "    gbk_files = []\n",
    "    for filename in os.listdir(input_dir):\n",
    "        if filename.endswith(\".gbk\") and not exlude_pattern in filename:\n",
    "            filepath = os.path.join(input_dir, filename)\n",
    "            gbk_files.append(filepath)\n",
    "    return gbk_files\n"
   ]
  },
  {
   "cell_type": "code",
   "execution_count": 10,
   "id": "8092e2f1",
   "metadata": {},
   "outputs": [],
   "source": [
    "def parse_gbk_directory(input_dir):\n",
    "    all_counts={}\n",
    "    gbk_files = get_gbk_files(input_dir)\n",
    "    for f in gbk_files:\n",
    "        #key=f.split(\"/\")[-1].split(\".\")[0]\n",
    "        counts = count_cds_features_with_pattern(f,'regulatory')\n",
    "        if counts:\n",
    "            all_counts[f] = counts\n",
    "    return all_counts"
   ]
  },
  {
   "cell_type": "code",
   "execution_count": 217,
   "id": "eb124646",
   "metadata": {},
   "outputs": [],
   "source": [
    "big_strep_counts = parse_gbk_directory(big_strep_dir)"
   ]
  },
  {
   "cell_type": "code",
   "execution_count": 202,
   "id": "f551e90a",
   "metadata": {},
   "outputs": [
    {
     "data": {
      "text/plain": [
       "True"
      ]
     },
     "execution_count": 202,
     "metadata": {},
     "output_type": "execute_result"
    }
   ],
   "source": [
    "#Should return True\n",
    "len(big_strep_counts) == 8712"
   ]
  },
  {
   "cell_type": "code",
   "execution_count": 148,
   "id": "c41bd680",
   "metadata": {},
   "outputs": [],
   "source": [
    "#get rid of the massive index names, but preserve mapping (it might come in handy)\n",
    "file_map = {}\n",
    "strep_dict = {}\n",
    "i = 1\n",
    "for key in big_strep_counts:\n",
    "    new_key = 'bgc' + str(i)\n",
    "    file_map[new_key] = key\n",
    "    strep_dict[new_key] = big_strep_counts[key].copy()\n",
    "    i+=1"
   ]
  },
  {
   "cell_type": "code",
   "execution_count": 149,
   "id": "bc5c3676",
   "metadata": {},
   "outputs": [],
   "source": [
    "sums = {} \n",
    "for key1 in big_strep_counts:\n",
    "    for key2 in big_strep_counts[key1]:\n",
    "        #print(key2)\n",
    "        sums[key2] = sums.get(key2,0) + 1"
   ]
  },
  {
   "cell_type": "code",
   "execution_count": 150,
   "id": "fef1ce2b",
   "metadata": {},
   "outputs": [],
   "source": [
    "def generate_dataframe(obs_dict):\n",
    "    \"\"\"\n",
    "    makes a data frame from the dictionary generated by parse_gbk_directory\n",
    "    \"\"\"\n",
    "    # Initialize an empty dictionary of feature counts\n",
    "    all_features = set()\n",
    "    counts = {}\n",
    "    for obs_id, obs_counts in obs_dict.items():\n",
    "        # Add the feature counts to the dictionary\n",
    "        for feature, count in obs_counts.items():\n",
    "            all_features.add(feature)\n",
    "            if obs_id not in counts:\n",
    "                counts[obs_id] = {}\n",
    "            counts[obs_id][feature] = count\n",
    "\n",
    "    # Convert the dictionary to a DataFrame and fill missing values with zeros\n",
    "    df = pd.DataFrame.from_dict(counts, orient='index')\n",
    "    df = df.fillna(0)\n",
    "\n",
    "    # Reorder the columns in alphabetical order\n",
    "    df = df[sorted(all_features)]\n",
    "    \n",
    "    return df"
   ]
  },
  {
   "cell_type": "code",
   "execution_count": 151,
   "id": "392ee038",
   "metadata": {},
   "outputs": [],
   "source": [
    "strep_df = generate_dataframe(strep_dict)"
   ]
  },
  {
   "cell_type": "code",
   "execution_count": 203,
   "id": "9bbcd9fa",
   "metadata": {},
   "outputs": [
    {
     "data": {
      "text/plain": [
       "True"
      ]
     },
     "execution_count": 203,
     "metadata": {},
     "output_type": "execute_result"
    }
   ],
   "source": [
    "#should return True\n",
    "len(strep_df.columns)==30"
   ]
  },
  {
   "cell_type": "code",
   "execution_count": 153,
   "id": "48a2d468",
   "metadata": {},
   "outputs": [],
   "source": [
    "def count_to_binary(df, threshold=0):\n",
    "    \"\"\"\n",
    "    converts dataframe from counts, to binary presence/absense\n",
    "    done to simplify statistical tests downstream\n",
    "    \"\"\"\n",
    "    # Create a copy of the input DataFrame\n",
    "    binary_df = df.copy()\n",
    "\n",
    "    # Replace all values above the threshold with 1 and all others with 0\n",
    "    binary_df[binary_df <= threshold] = 0\n",
    "    binary_df[binary_df > threshold] = 1\n",
    "    \n",
    "    return binary_df"
   ]
  },
  {
   "cell_type": "code",
   "execution_count": 154,
   "id": "b29c5cf3",
   "metadata": {},
   "outputs": [],
   "source": [
    "binary_strep_df = count_to_binary(strep_df)"
   ]
  },
  {
   "cell_type": "code",
   "execution_count": 155,
   "id": "ecdfc4c5",
   "metadata": {},
   "outputs": [],
   "source": [
    "to_drop = ['LuxR family DNA-binding response regulator ',\n",
    " 'LuxR family transcriptional regulator ',\n",
    " 'transcriptional regulator ',\n",
    " 'response regulator ',\n",
    " 'pkinase']"
   ]
  },
  {
   "cell_type": "code",
   "execution_count": 156,
   "id": "7cb3021f",
   "metadata": {},
   "outputs": [],
   "source": [
    "final_df = binary_strep_df.drop(to_drop, axis=1)\n",
    "# remove non regulators, generics, and TCS response regulators. TCS now counted by SensorHK only"
   ]
  },
  {
   "cell_type": "code",
   "execution_count": 201,
   "id": "1c8c974b",
   "metadata": {},
   "outputs": [
    {
     "data": {
      "text/plain": [
       "True"
      ]
     },
     "execution_count": 201,
     "metadata": {},
     "output_type": "execute_result"
    }
   ],
   "source": [
    "#should return True\n",
    "len(final_df.columns)==25\n"
   ]
  },
  {
   "cell_type": "code",
   "execution_count": 158,
   "id": "fcef1dec",
   "metadata": {},
   "outputs": [],
   "source": [
    "def calc_binom(n, k):\n",
    "    return math.comb(n, k)\n",
    "\n",
    "def count_feature_combinations(df, k, n=None):\n",
    "    \"\"\"\n",
    "    Generates all k-length comninations for features in a df\n",
    "    counts the number of times these occur in the df\n",
    "    reports the combinations with the n highest counts\n",
    "    \"\"\"\n",
    "    # Initialize a dictionary to store the feature combinations and their counts\n",
    "    feature_counts = {}\n",
    "    #if the number of combinations to report is not specified, set it to all possible combinations\n",
    "    if n is None:\n",
    "        n = calc_binom(len(df.columns),k)\n",
    "        \n",
    "\n",
    "    # Iterate over all combinations of length k\n",
    "    for combination in itertools.combinations(df.columns, k):\n",
    "        # Count the number of observations that have all of the features in the combination\n",
    "        observations_with_features = df[list(combination)].min(axis=1).sum()\n",
    "\n",
    "        # Add the feature combination and its count to the dictionary\n",
    "        feature_counts[combination] = observations_with_features\n",
    "\n",
    "    # Sort the dictionary by count and return the top n entries\n",
    "    top_n_combinations = dict(sorted(feature_counts.items(), key=lambda x: x[1], reverse=True)[:n])\n",
    "\n",
    "    return top_n_combinations"
   ]
  },
  {
   "cell_type": "code",
   "execution_count": 159,
   "id": "6499eeed",
   "metadata": {},
   "outputs": [],
   "source": [
    "combs_4 = count_feature_combinations(final_df, 4)"
   ]
  },
  {
   "cell_type": "code",
   "execution_count": 204,
   "id": "818e65c4",
   "metadata": {},
   "outputs": [
    {
     "data": {
      "text/plain": [
       "True"
      ]
     },
     "execution_count": 204,
     "metadata": {},
     "output_type": "execute_result"
    }
   ],
   "source": [
    "#should return True\n",
    "len(combs_4) == 12650"
   ]
  },
  {
   "cell_type": "code",
   "execution_count": 161,
   "id": "06b1f868",
   "metadata": {},
   "outputs": [],
   "source": [
    "def calculate_feature_set_probability(df, feature_set):\n",
    "    \"\"\"\n",
    "    Calculate the probability of a feature set occurring in a DataFrame by assuming independence.\n",
    "    \n",
    "    Parameters:\n",
    "    df (pandas DataFrame): The input DataFrame of binary observations.\n",
    "    feature_set (list): A list of feature names to calculate the probability for.\n",
    "    \n",
    "    Returns:\n",
    "    The probability of the feature set occurring in the DataFrame by assuming independence.\n",
    "    This is the product of the probabilities of each feature\n",
    "    \n",
    "    !!Only works for binary dataframes!!\n",
    "    \"\"\"\n",
    "    # calculate the frequency of each feature\n",
    "    feature_frequencies = df[feature_set].mean()\n",
    "    \n",
    "    # calculate the probability of the feature set occurring by assuming independence\n",
    "    feature_set_probability = np.prod(feature_frequencies)\n",
    "    \n",
    "    return feature_set_probability"
   ]
  },
  {
   "cell_type": "code",
   "execution_count": 162,
   "id": "261698e7",
   "metadata": {},
   "outputs": [],
   "source": [
    "def calculate_cumulative_binomial_probability(n, p, num_trials):\n",
    "    \"\"\"\n",
    "    Calculate the probability of n or more successes using the cumulative binomial distribution.\n",
    "    \n",
    "    Parameters:\n",
    "    n (int): The minimum number of successes to consider.\n",
    "    p (float): The probability of success in each trial.\n",
    "    num_trials (int): The total number of trials.\n",
    "    \n",
    "    Returns:\n",
    "    The probability of n or more successes using the cumulative binomial distribution.\n",
    "    \"\"\"\n",
    "    # calculate the probability of n-1 or fewer successes\n",
    "    probability = binom.cdf(n-1, num_trials, p)\n",
    "    \n",
    "    # subtract this probability from 1 to get the probability of n or more successes\n",
    "    probability = 1 - probability\n",
    "    \n",
    "    return probability\n"
   ]
  },
  {
   "cell_type": "code",
   "execution_count": 163,
   "id": "82f469e4",
   "metadata": {},
   "outputs": [
    {
     "data": {
      "text/plain": [
       "0.0006360278376437156"
      ]
     },
     "execution_count": 163,
     "metadata": {},
     "output_type": "execute_result"
    }
   ],
   "source": [
    "calculate_cumulative_binomial_probability(52,0.002897080319329784,11000)\n",
    "#work this out with a pencil if you don't trust me"
   ]
  },
  {
   "cell_type": "code",
   "execution_count": 164,
   "id": "af87494f",
   "metadata": {},
   "outputs": [],
   "source": [
    "def report_pvalues(combs, df, n=11975,cutoff=0.001):\n",
    "    \"\"\"\n",
    "    Takes a dictionary of combination frequencies, and the dataframe from which they were derived\n",
    "    Calculates probability assuming indepndence\n",
    "    Uases observed count, binom distribution, and number of rows(trials) to calc p for oberved\n",
    "    Records and reporets if below cutoff\n",
    "    !! note, n is set to 11975 in this case, as this was the number of BGCs in the originnal input\n",
    "    !! Some of them had no regulatory elements, so the df dimension is smaller, like 8k or something\n",
    "    !! Doesn't correct for multiple comparisons. Fixed below.\n",
    "   \"\"\"\n",
    "    to_report=[]\n",
    "    for i in range(len(combs.keys())):\n",
    "        key = list(combs.keys())[i]\n",
    "        p = calculate_feature_set_probability(df,list(key))\n",
    "        count = combs[key]\n",
    "        p_value=calculate_cumulative_binomial_probability(count,p,n)\n",
    "        if p_value < cutoff:\n",
    "            #print(key,p_value)\n",
    "            to_report.append((key,p_value))\n",
    "    return to_report"
   ]
  },
  {
   "cell_type": "code",
   "execution_count": 165,
   "id": "4c9b7643",
   "metadata": {},
   "outputs": [],
   "source": [
    "to_report = report_pvalues(combs_4,final_df)"
   ]
  },
  {
   "cell_type": "code",
   "execution_count": 205,
   "id": "dfd61094",
   "metadata": {},
   "outputs": [
    {
     "data": {
      "text/plain": [
       "True"
      ]
     },
     "execution_count": 205,
     "metadata": {},
     "output_type": "execute_result"
    }
   ],
   "source": [
    "#should return True\n",
    "len(to_report) == 90"
   ]
  },
  {
   "cell_type": "code",
   "execution_count": 144,
   "id": "6d12957b",
   "metadata": {},
   "outputs": [],
   "source": [
    "#need to adjust for the often stupidly large number of tests\n",
    "#script below does this\n",
    "def report_pvalues_correct_multi(combs, df, n=11975,alhpa=0.05):\n",
    "    raw_p_values = []\n",
    "    for i in range(len(combs.keys())):\n",
    "        key = list(combs.keys())[i]\n",
    "        p = calculate_feature_set_probability(df,list(key))\n",
    "        count = combs[key]\n",
    "        p_value=calculate_cumulative_binomial_probability(count,p,n)\n",
    "        raw_p_values.append(p_value)\n",
    "    adjusted_p_values = multitest.multipletests(raw_p_values)\n",
    "    return adjusted_p_values"
   ]
  },
  {
   "cell_type": "code",
   "execution_count": 218,
   "id": "83f3a7f9",
   "metadata": {},
   "outputs": [],
   "source": [
    "adjusted_4 = report_pvalues_correct_multi(combs_4,final_df)"
   ]
  },
  {
   "cell_type": "code",
   "execution_count": 206,
   "id": "069000bd",
   "metadata": {},
   "outputs": [
    {
     "data": {
      "text/plain": [
       "True"
      ]
     },
     "execution_count": 206,
     "metadata": {},
     "output_type": "execute_result"
    }
   ],
   "source": [
    "#[0] is an array of bools. True means reject null. Sun to count significant \n",
    "#should return true\n",
    "sum(adjusted_4[0]) == 19"
   ]
  },
  {
   "cell_type": "code",
   "execution_count": 207,
   "id": "e8f9c01a",
   "metadata": {},
   "outputs": [
    {
     "data": {
      "text/plain": [
       "True"
      ]
     },
     "execution_count": 207,
     "metadata": {},
     "output_type": "execute_result"
    }
   ],
   "source": [
    "#total number of p-values\n",
    "#should return true\n",
    "len(adjusted_4[1]) == 12650"
   ]
  },
  {
   "cell_type": "code",
   "execution_count": 169,
   "id": "67815d1a",
   "metadata": {},
   "outputs": [],
   "source": [
    "def report_adjusted_pvalues(adjusted,combs):\n",
    "    \n",
    "    \"\"\"\n",
    "    iterates adjusted pvalues returned by report_pvalues_correct_multi\n",
    "    reports instances where h0 is rejected\n",
    "    \"\"\"\n",
    "\n",
    "    k=0\n",
    "    n=0\n",
    "    for i in adjusted[0]:\n",
    "        \n",
    "        #if True, then == null rejected\n",
    "        if i:\n",
    "            #get the corresponding combination from combs\n",
    "            combination = list(combs.keys())[n]\n",
    "            #print index, combination in question, the number of times observed\n",
    "            print(n,combination,combs[combination])\n",
    "            #print multiple comparison adjusted p-value\n",
    "            print(adjusted[1][n])\n",
    "            print(\"*****\")\n",
    "            k+=1\n",
    "        n+=1\n",
    "    print(k)"
   ]
  },
  {
   "cell_type": "code",
   "execution_count": 208,
   "id": "64698a5c",
   "metadata": {},
   "outputs": [],
   "source": [
    "report_adjusted_pvalues(adjusted_4, combs)"
   ]
  },
  {
   "cell_type": "markdown",
   "id": "5e64cec0",
   "metadata": {},
   "source": [
    "### Expected output from above:\n",
    "\n",
    "```\n",
    "1 ('GntR family transcriptional regulator ', 'MarR family transcriptional regulator ', 'TetR family transcriptional regulator ', 'sensor histidine kinase ') 41.0\n",
    "0.0021472738295903763\n",
    "*****\n",
    "10 ('LysR family transcriptional regulator ', 'sensor histidine kinase ', 'transcriptional regulator, MerR family ', 'transcriptional regulator, SARP family ') 24.0\n",
    "0.002599315574822896\n",
    "*****\n",
    "16 ('AraC family transcriptional regulator ', 'LacI family transcription regulator ', 'PadR family transcriptional regulator ', 'TetR family transcriptional regulator ') 21.0\n",
    "1.404432126149837e-12\n",
    "*****\n",
    "21 ('GntR family transcriptional regulator ', 'MarR family transcriptional regulator ', 'PadR family transcriptional regulator ', 'TetR family transcriptional regulator ') 20.0\n",
    "2.1347069217623614e-08\n",
    "*****\n",
    "31 ('LacI family transcription regulator ', 'LysR family transcriptional regulator ', 'TetR family transcriptional regulator ', 'transcriptional regulator, MarR family ') 17.0\n",
    "0.00015514900180504406\n",
    "*****\n",
    "32 ('LacI family transcription regulator ', 'MarR family transcriptional regulator ', 'RNA polymerase, sigma-24 subunit, ECF subfamily ', 'sensor histidine kinase ') 17.0\n",
    "0.011388223495214888\n",
    "*****\n",
    "42 ('MarR family transcriptional regulator ', 'PadR family transcriptional regulator ', 'RNA polymerase, sigma-24 subunit, ECF subfamily ', 'TetR family transcriptional regulator ') 16.0\n",
    "0.0013161079207952224\n",
    "*****\n",
    "50 ('LysR family transcriptional regulator ', 'TetR family transcriptional regulator ', 'transcriptional regulator, MarR family ', 'transcriptional regulator, MerR family ') 15.0\n",
    "0.0045209507813673095\n",
    "*****\n",
    "55 ('ArsR family transcriptional regulator ', 'PadR family transcriptional regulator ', 'transcriptional regulator, MerR family ', 'transcriptional regulator, SARP family ') 14.0\n",
    "1.404432126149837e-12\n",
    "*****\n",
    "73 ('AraC family transcriptional regulator ', 'LacI family transcription regulator ', 'PadR family transcriptional regulator ', 'transcriptional regulator, MerR family ') 12.0\n",
    "1.2636891533111082e-11\n",
    "*****\n",
    "79 ('LacI family transcription regulator ', 'LysR family transcriptional regulator ', 'transcriptional regulator, MarR family ', 'transcriptional regulator, MerR family ') 12.0\n",
    "1.541316562494276e-08\n",
    "*****\n",
    "82 ('LacI family transcription regulator ', 'TetR family transcriptional regulator ', 'transcriptional regulator, MarR family ', 'transcriptional regulator, MerR family ') 12.0\n",
    "0.0004142525040457837\n",
    "*****\n",
    "118 ('AsnC family transcriptional regulator ', 'IclR family transcriptional regulator ', 'LysR family transcriptional regulator ', 'cold-shock DNA-binding domain protein ') 10.0\n",
    "1.6833816548754517e-09\n",
    "*****\n",
    "124 ('LacI family transcription regulator ', 'PadR family transcriptional regulator ', 'TetR family transcriptional regulator ', 'transcriptional regulator, MerR family ') 10.0\n",
    "0.002638829880397609\n",
    "*****\n",
    "152 ('IclR family transcriptional regulator ', 'LysR family transcriptional regulator ', 'autoinducer-binding transcriptional regulator, ', 'biosynthetic-additional (rule-based-clusters) Pkinase') 9.0\n",
    "5.616840326167819e-12\n",
    "*****\n",
    "208 ('ArsR family transcriptional regulator ', 'AsnC family transcriptional regulator ', 'LacI family transcription regulator ', 'transcriptional regulator, SARP family ') 7.0\n",
    "0.02219051179195983\n",
    "*****\n",
    "229 ('GntR family transcriptional regulator ', 'MarR family transcriptional regulator ', 'PadR family transcriptional regulator ', 'transcriptional regulator, MerR family ') 7.0\n",
    "0.008100109509015012\n",
    "*****\n",
    "301 ('LysR family transcriptional regulator ', 'TetR family transcriptional regulator ', 'biosynthetic-additional (rule-based-clusters) Pkinase', 'sigma-54 dependent trancsriptional regulator ') 6.0\n",
    "6.577420965948237e-05\n",
    "*****\n",
    "439 ('AsnC family transcriptional regulator ', 'LacI family transcription regulator ', 'MarR family transcriptional regulator ', 'sigma-54 dependent trancsriptional regulator ') 4.0\n",
    "3.537185026059299e-05\n",
    "*****\n",
    "19\n",
    "```"
   ]
  },
  {
   "cell_type": "code",
   "execution_count": 176,
   "id": "7da21ece",
   "metadata": {},
   "outputs": [],
   "source": [
    "combs_3 = count_feature_combinations(final_df, 3)"
   ]
  },
  {
   "cell_type": "code",
   "execution_count": 209,
   "id": "74963a5a",
   "metadata": {},
   "outputs": [
    {
     "data": {
      "text/plain": [
       "True"
      ]
     },
     "execution_count": 209,
     "metadata": {},
     "output_type": "execute_result"
    }
   ],
   "source": [
    "#should return True\n",
    "len(combs_3) == 2300"
   ]
  },
  {
   "cell_type": "code",
   "execution_count": 178,
   "id": "48616354",
   "metadata": {},
   "outputs": [],
   "source": [
    "adjusted_3 = report_pvalues_correct_multi(combs_3,final_df)"
   ]
  },
  {
   "cell_type": "code",
   "execution_count": 214,
   "id": "ab7b94d2",
   "metadata": {},
   "outputs": [
    {
     "data": {
      "text/plain": [
       "True"
      ]
     },
     "execution_count": 214,
     "metadata": {},
     "output_type": "execute_result"
    }
   ],
   "source": [
    "#should return True\n",
    "sum(adjusted_3[0]) == 14"
   ]
  },
  {
   "cell_type": "code",
   "execution_count": 210,
   "id": "b36fd653",
   "metadata": {},
   "outputs": [],
   "source": [
    "report_adjusted_pvalues(adjusted_3,combs_3)"
   ]
  },
  {
   "cell_type": "markdown",
   "id": "374fc8cf",
   "metadata": {},
   "source": [
    "### Expected output from above\n",
    "```\n",
    "11 ('AraC family transcriptional regulator ', 'GntR family transcriptional regulator ', 'RNA polymerase, sigma-24 subunit, ECF subfamily ') 89.0\n",
    "2.553512956637534e-13\n",
    "*****\n",
    "43 ('MarR family transcriptional regulator ', 'PadR family transcriptional regulator ', 'TetR family transcriptional regulator ') 54.0\n",
    "2.12406739630444e-07\n",
    "*****\n",
    "90 ('LacI family transcription regulator ', 'PadR family transcriptional regulator ', 'TetR family transcriptional regulator ') 31.0\n",
    "0.039820509739227544\n",
    "*****\n",
    "93 ('AraC family transcriptional regulator ', 'LacI family transcription regulator ', 'PadR family transcriptional regulator ') 30.0\n",
    "2.553512956637534e-13\n",
    "*****\n",
    "131 ('GntR family transcriptional regulator ', 'MarR family transcriptional regulator ', 'PadR family transcriptional regulator ') 23.0\n",
    "9.683066730356956e-05\n",
    "*****\n",
    "140 ('ArsR family transcriptional regulator ', 'PadR family transcriptional regulator ', 'transcriptional regulator, SARP family ') 22.0\n",
    "1.4999813945055357e-08\n",
    "*****\n",
    "212 ('ArsR family transcriptional regulator ', 'PadR family transcriptional regulator ', 'transcriptional regulator, MerR family ') 15.0\n",
    "5.594881645850163e-08\n",
    "*****\n",
    "233 ('IclR family transcriptional regulator ', 'LysR family transcriptional regulator ', 'autoinducer-binding transcriptional regulator, ') 14.0\n",
    "5.4822542224805363e-08\n",
    "*****\n",
    "251 ('LacI family transcription regulator ', 'PadR family transcriptional regulator ', 'transcriptional regulator, MerR family ') 13.0\n",
    "0.006721714089992982\n",
    "*****\n",
    "302 ('AsnC family transcriptional regulator ', 'IclR family transcriptional regulator ', 'cold-shock DNA-binding domain protein ') 10.0\n",
    "0.005691133234242413\n",
    "*****\n",
    "327 ('IclR family transcriptional regulator ', 'autoinducer-binding transcriptional regulator, ', 'biosynthetic-additional (rule-based-clusters) Pkinase') 9.0\n",
    "6.466960773069795e-06\n",
    "*****\n",
    "412 ('LysR family transcriptional regulator ', 'biosynthetic-additional (rule-based-clusters) Pkinase', 'sigma-54 dependent trancsriptional regulator ') 6.0\n",
    "0.0018603311818455686\n",
    "*****\n",
    "451 ('LysR family transcriptional regulator ', 'biosynthetic-additional (rule-based-clusters) Pkinase', 'serine/threonine protein kinase ') 5.0\n",
    "0.046948230587319735\n",
    "*****\n",
    "482 ('AsnC family transcriptional regulator ', 'LacI family transcription regulator ', 'sigma-54 dependent trancsriptional regulator ') 4.0\n",
    "0.025252912412844396\n",
    "*****\n",
    "14\n",
    "```"
   ]
  },
  {
   "cell_type": "code",
   "execution_count": 181,
   "id": "164698cc",
   "metadata": {},
   "outputs": [],
   "source": [
    "combs_5 = count_feature_combinations(final_df, 5)"
   ]
  },
  {
   "cell_type": "code",
   "execution_count": 183,
   "id": "c928e13b",
   "metadata": {},
   "outputs": [],
   "source": [
    "adjusted_5 = report_pvalues_correct_multi(combs_5,final_df)"
   ]
  },
  {
   "cell_type": "code",
   "execution_count": 216,
   "id": "53ab0582",
   "metadata": {},
   "outputs": [
    {
     "data": {
      "text/plain": [
       "True"
      ]
     },
     "execution_count": 216,
     "metadata": {},
     "output_type": "execute_result"
    }
   ],
   "source": [
    "#should return True\n",
    "sum(adjusted_5[0]) == 17"
   ]
  },
  {
   "cell_type": "code",
   "execution_count": 184,
   "id": "88698367",
   "metadata": {},
   "outputs": [
    {
     "name": "stdout",
     "output_type": "stream",
     "text": [
      "0 ('LysR family transcriptional regulator ', 'RNA polymerase, sigma-24 subunit, ECF subfamily ', 'TetR family transcriptional regulator ', 'biosynthetic-additional (rule-based-clusters) Pkinase', 'transcriptional regulator, SARP family ') 16.0\n",
      "5.742169260442319e-06\n",
      "*****\n",
      "2 ('LacI family transcription regulator ', 'LysR family transcriptional regulator ', 'TetR family transcriptional regulator ', 'transcriptional regulator, MarR family ', 'transcriptional regulator, MerR family ') 11.0\n",
      "1.3566814337696673e-10\n",
      "*****\n",
      "3 ('GntR family transcriptional regulator ', 'LysR family transcriptional regulator ', 'RNA polymerase, sigma-24 subunit, ECF subfamily ', 'sensor histidine kinase ', 'transcriptional regulator, MerR family ') 10.0\n",
      "0.00012268228390325818\n",
      "*****\n",
      "4 ('AraC family transcriptional regulator ', 'LacI family transcription regulator ', 'PadR family transcriptional regulator ', 'TetR family transcriptional regulator ', 'transcriptional regulator, MerR family ') 9.0\n",
      "1.179700780810365e-09\n",
      "*****\n",
      "10 ('LacI family transcription regulator ', 'LysR family transcriptional regulator ', 'TetR family transcriptional regulator ', 'sensor histidine kinase ', 'transcriptional regulator, MarR family ') 8.0\n",
      "0.01496879894399153\n",
      "*****\n",
      "13 ('GntR family transcriptional regulator ', 'MarR family transcriptional regulator ', 'PadR family transcriptional regulator ', 'TetR family transcriptional regulator ', 'transcriptional regulator, MerR family ') 7.0\n",
      "0.00010038291063565587\n",
      "*****\n",
      "19 ('ArsR family transcriptional regulator ', 'AsnC family transcriptional regulator ', 'LacI family transcription regulator ', 'TetR family transcriptional regulator ', 'transcriptional regulator, SARP family ') 6.0\n",
      "0.008792290928488268\n",
      "*****\n",
      "41 ('AraC family transcriptional regulator ', 'LacI family transcription regulator ', 'LysR family transcriptional regulator ', 'cold-shock DNA-binding domain protein ', 'sensor histidine kinase ') 5.0\n",
      "0.03639911375666295\n",
      "*****\n",
      "57 ('GntR family transcriptional regulator ', 'MarR family transcriptional regulator ', 'PadR family transcriptional regulator ', 'sensor histidine kinase ', 'transcriptional regulator, MerR family ') 5.0\n",
      "0.003911442950018904\n",
      "*****\n",
      "65 ('LacI family transcription regulator ', 'LysR family transcriptional regulator ', 'MarR family transcriptional regulator ', 'cold-shock DNA-binding domain protein ', 'sensor histidine kinase ') 5.0\n",
      "0.04225908457734244\n",
      "*****\n",
      "99 ('ArsR family transcriptional regulator ', 'GntR family transcriptional regulator ', 'LysR family transcriptional regulator ', 'PadR family transcriptional regulator ', 'RNA polymerase, sigma-24 subunit, ECF subfamily ') 4.0\n",
      "0.016693092085061045\n",
      "*****\n",
      "101 ('ArsR family transcriptional regulator ', 'GntR family transcriptional regulator ', 'LysR family transcriptional regulator ', 'PadR family transcriptional regulator ', 'transcriptional regulator, SARP family ') 4.0\n",
      "0.04188279604890475\n",
      "*****\n",
      "104 ('ArsR family transcriptional regulator ', 'GntR family transcriptional regulator ', 'PadR family transcriptional regulator ', 'RNA polymerase, sigma-24 subunit, ECF subfamily ', 'transcriptional regulator, SARP family ') 4.0\n",
      "0.028224770429318244\n",
      "*****\n",
      "137 ('GntR family transcriptional regulator ', 'PadR family transcriptional regulator ', 'autoinducer-binding transcriptional regulator, ', 'sensor histidine kinase ', 'transcriptional regulator, SARP family ') 4.0\n",
      "0.0004733034859256006\n",
      "*****\n",
      "152 ('AraC family transcriptional regulator ', 'ArsR family transcriptional regulator ', 'AsnC family transcriptional regulator ', 'LacI family transcription regulator ', 'PadR family transcriptional regulator ') 3.0\n",
      "0.010440301384798144\n",
      "*****\n",
      "196 ('ArsR family transcriptional regulator ', 'AsnC family transcriptional regulator ', 'LacI family transcription regulator ', 'PadR family transcriptional regulator ', 'transcriptional regulator, SARP family ') 3.0\n",
      "0.043231388074873846\n",
      "*****\n",
      "262 ('LysR family transcriptional regulator ', 'cold-shock DNA-binding domain protein ', 'sensor histidine kinase ', 'sigma-54 dependent trancsriptional regulator ', 'transcriptional regulator, SARP family ') 3.0\n",
      "0.0022445543650219083\n",
      "*****\n",
      "17\n"
     ]
    }
   ],
   "source": [
    "report_adjusted_pvalues(adjusted_5,combs_5)"
   ]
  },
  {
   "cell_type": "markdown",
   "id": "6f288125",
   "metadata": {},
   "source": [
    "### Expected ouptput from above\n",
    "\n",
    "```\n",
    "0 ('LysR family transcriptional regulator ', 'RNA polymerase, sigma-24 subunit, ECF subfamily ', 'TetR family transcriptional regulator ', 'biosynthetic-additional (rule-based-clusters) Pkinase', 'transcriptional regulator, SARP family ') 16.0\n",
    "5.742169260442319e-06\n",
    "*****\n",
    "2 ('LacI family transcription regulator ', 'LysR family transcriptional regulator ', 'TetR family transcriptional regulator ', 'transcriptional regulator, MarR family ', 'transcriptional regulator, MerR family ') 11.0\n",
    "1.3566814337696673e-10\n",
    "*****\n",
    "3 ('GntR family transcriptional regulator ', 'LysR family transcriptional regulator ', 'RNA polymerase, sigma-24 subunit, ECF subfamily ', 'sensor histidine kinase ', 'transcriptional regulator, MerR family ') 10.0\n",
    "0.00012268228390325818\n",
    "*****\n",
    "4 ('AraC family transcriptional regulator ', 'LacI family transcription regulator ', 'PadR family transcriptional regulator ', 'TetR family transcriptional regulator ', 'transcriptional regulator, MerR family ') 9.0\n",
    "1.179700780810365e-09\n",
    "*****\n",
    "10 ('LacI family transcription regulator ', 'LysR family transcriptional regulator ', 'TetR family transcriptional regulator ', 'sensor histidine kinase ', 'transcriptional regulator, MarR family ') 8.0\n",
    "0.01496879894399153\n",
    "*****\n",
    "13 ('GntR family transcriptional regulator ', 'MarR family transcriptional regulator ', 'PadR family transcriptional regulator ', 'TetR family transcriptional regulator ', 'transcriptional regulator, MerR family ') 7.0\n",
    "0.00010038291063565587\n",
    "*****\n",
    "19 ('ArsR family transcriptional regulator ', 'AsnC family transcriptional regulator ', 'LacI family transcription regulator ', 'TetR family transcriptional regulator ', 'transcriptional regulator, SARP family ') 6.0\n",
    "0.008792290928488268\n",
    "*****\n",
    "41 ('AraC family transcriptional regulator ', 'LacI family transcription regulator ', 'LysR family transcriptional regulator ', 'cold-shock DNA-binding domain protein ', 'sensor histidine kinase ') 5.0\n",
    "0.03639911375666295\n",
    "*****\n",
    "57 ('GntR family transcriptional regulator ', 'MarR family transcriptional regulator ', 'PadR family transcriptional regulator ', 'sensor histidine kinase ', 'transcriptional regulator, MerR family ') 5.0\n",
    "0.003911442950018904\n",
    "*****\n",
    "65 ('LacI family transcription regulator ', 'LysR family transcriptional regulator ', 'MarR family transcriptional regulator ', 'cold-shock DNA-binding domain protein ', 'sensor histidine kinase ') 5.0\n",
    "0.04225908457734244\n",
    "*****\n",
    "99 ('ArsR family transcriptional regulator ', 'GntR family transcriptional regulator ', 'LysR family transcriptional regulator ', 'PadR family transcriptional regulator ', 'RNA polymerase, sigma-24 subunit, ECF subfamily ') 4.0\n",
    "0.016693092085061045\n",
    "*****\n",
    "101 ('ArsR family transcriptional regulator ', 'GntR family transcriptional regulator ', 'LysR family transcriptional regulator ', 'PadR family transcriptional regulator ', 'transcriptional regulator, SARP family ') 4.0\n",
    "0.04188279604890475\n",
    "*****\n",
    "104 ('ArsR family transcriptional regulator ', 'GntR family transcriptional regulator ', 'PadR family transcriptional regulator ', 'RNA polymerase, sigma-24 subunit, ECF subfamily ', 'transcriptional regulator, SARP family ') 4.0\n",
    "0.028224770429318244\n",
    "*****\n",
    "137 ('GntR family transcriptional regulator ', 'PadR family transcriptional regulator ', 'autoinducer-binding transcriptional regulator, ', 'sensor histidine kinase ', 'transcriptional regulator, SARP family ') 4.0\n",
    "0.0004733034859256006\n",
    "*****\n",
    "152 ('AraC family transcriptional regulator ', 'ArsR family transcriptional regulator ', 'AsnC family transcriptional regulator ', 'LacI family transcription regulator ', 'PadR family transcriptional regulator ') 3.0\n",
    "0.010440301384798144\n",
    "*****\n",
    "196 ('ArsR family transcriptional regulator ', 'AsnC family transcriptional regulator ', 'LacI family transcription regulator ', 'PadR family transcriptional regulator ', 'transcriptional regulator, SARP family ') 3.0\n",
    "0.043231388074873846\n",
    "*****\n",
    "262 ('LysR family transcriptional regulator ', 'cold-shock DNA-binding domain protein ', 'sensor histidine kinase ', 'sigma-54 dependent trancsriptional regulator ', 'transcriptional regulator, SARP family ') 3.0\n",
    "0.0022445543650219083\n",
    "*****\n",
    "17\n",
    "```"
   ]
  },
  {
   "cell_type": "code",
   "execution_count": 185,
   "id": "d949f5a8",
   "metadata": {},
   "outputs": [],
   "source": [
    "combs_2 = count_feature_combinations(final_df, 2)"
   ]
  },
  {
   "cell_type": "code",
   "execution_count": 219,
   "id": "6ffa9580",
   "metadata": {},
   "outputs": [
    {
     "data": {
      "text/plain": [
       "True"
      ]
     },
     "execution_count": 219,
     "metadata": {},
     "output_type": "execute_result"
    }
   ],
   "source": [
    "#should return True\n",
    "len(combs_2) == 300"
   ]
  },
  {
   "cell_type": "code",
   "execution_count": 186,
   "id": "22f3d5ba",
   "metadata": {},
   "outputs": [],
   "source": [
    "adjusted_2 = report_pvalues_correct_multi(combs_2,final_df)"
   ]
  },
  {
   "cell_type": "code",
   "execution_count": 220,
   "id": "15167648",
   "metadata": {},
   "outputs": [
    {
     "data": {
      "text/plain": [
       "True"
      ]
     },
     "execution_count": 220,
     "metadata": {},
     "output_type": "execute_result"
    }
   ],
   "source": [
    "#should return True\n",
    "sum(adjusted_2[0]) == 2"
   ]
  },
  {
   "cell_type": "code",
   "execution_count": 221,
   "id": "955e3d98",
   "metadata": {},
   "outputs": [],
   "source": [
    "report_adjusted_pvalues(adjusted_2,combs_2)"
   ]
  },
  {
   "cell_type": "markdown",
   "id": "6b177d37",
   "metadata": {},
   "source": [
    "### Expected output from above\n",
    "\n",
    "```\n",
    "61 ('MarR family transcriptional regulator ', 'PadR family transcriptional regulator ') 81.0\n",
    "0.0007064134431359788\n",
    "*****\n",
    "154 ('biosynthetic-additional (rule-based-clusters) Pkinase', 'serine/threonine protein kinase ') 9.0\n",
    "0.04612172429346162\n",
    "*****\n",
    "2\n",
    "```"
   ]
  },
  {
   "cell_type": "code",
   "execution_count": 187,
   "id": "c944f314",
   "metadata": {},
   "outputs": [],
   "source": [
    "#this one will take a while to run\n",
    "combs_6 = count_feature_combinations(final_df, 6)"
   ]
  },
  {
   "cell_type": "code",
   "execution_count": 224,
   "id": "79992263",
   "metadata": {},
   "outputs": [
    {
     "data": {
      "text/plain": [
       "True"
      ]
     },
     "execution_count": 224,
     "metadata": {},
     "output_type": "execute_result"
    }
   ],
   "source": [
    "len(combs_6) == 177100"
   ]
  },
  {
   "cell_type": "code",
   "execution_count": 188,
   "id": "83f6e443",
   "metadata": {},
   "outputs": [],
   "source": [
    "#this one will take a while to run\n",
    "adjusted_6 = report_pvalues_correct_multi(combs_6,final_df)"
   ]
  },
  {
   "cell_type": "code",
   "execution_count": 229,
   "id": "c4bc1107",
   "metadata": {},
   "outputs": [
    {
     "data": {
      "text/plain": [
       "True"
      ]
     },
     "execution_count": 229,
     "metadata": {},
     "output_type": "execute_result"
    }
   ],
   "source": [
    "#should return True\n",
    "sum(adjusted_6[0]) == 14"
   ]
  },
  {
   "cell_type": "code",
   "execution_count": 230,
   "id": "88c58cce",
   "metadata": {},
   "outputs": [],
   "source": [
    "report_adjusted_pvalues(adjusted_6,combs_6)"
   ]
  },
  {
   "cell_type": "markdown",
   "id": "6584b2bf",
   "metadata": {},
   "source": [
    "### Expected output from above\n",
    "\n",
    "```\n",
    "0 ('GntR family transcriptional regulator ', 'MarR family transcriptional regulator ', 'PadR family transcriptional regulator ', 'TetR family transcriptional regulator ', 'sensor histidine kinase ', 'transcriptional regulator, MerR family ') 5.0\n",
    "0.00017982861372431688\n",
    "*****\n",
    "1 ('LacI family transcription regulator ', 'LysR family transcriptional regulator ', 'MarR family transcriptional regulator ', 'TetR family transcriptional regulator ', 'cold-shock DNA-binding domain protein ', 'sensor histidine kinase ') 5.0\n",
    "0.0020403196141226647\n",
    "*****\n",
    "4 ('ArsR family transcriptional regulator ', 'GntR family transcriptional regulator ', 'LysR family transcriptional regulator ', 'PadR family transcriptional regulator ', 'RNA polymerase, sigma-24 subunit, ECF subfamily ', 'TetR family transcriptional regulator ') 4.0\n",
    "0.0017940468854606673\n",
    "*****\n",
    "5 ('ArsR family transcriptional regulator ', 'GntR family transcriptional regulator ', 'LysR family transcriptional regulator ', 'PadR family transcriptional regulator ', 'RNA polymerase, sigma-24 subunit, ECF subfamily ', 'transcriptional regulator, SARP family ') 4.0\n",
    "8.011930883691676e-05\n",
    "*****\n",
    "6 ('ArsR family transcriptional regulator ', 'GntR family transcriptional regulator ', 'LysR family transcriptional regulator ', 'PadR family transcriptional regulator ', 'TetR family transcriptional regulator ', 'transcriptional regulator, SARP family ') 4.0\n",
    "0.004583360984948673\n",
    "*****\n",
    "8 ('ArsR family transcriptional regulator ', 'GntR family transcriptional regulator ', 'PadR family transcriptional regulator ', 'RNA polymerase, sigma-24 subunit, ECF subfamily ', 'TetR family transcriptional regulator ', 'transcriptional regulator, SARP family ') 4.0\n",
    "0.0030601064830237234\n",
    "*****\n",
    "10 ('ArsR family transcriptional regulator ', 'LysR family transcriptional regulator ', 'PadR family transcriptional regulator ', 'RNA polymerase, sigma-24 subunit, ECF subfamily ', 'TetR family transcriptional regulator ', 'transcriptional regulator, SARP family ') 4.0\n",
    "0.010522835344247748\n",
    "*****\n",
    "14 ('LacI family transcription regulator ', 'LysR family transcriptional regulator ', 'TetR family transcriptional regulator ', 'sensor histidine kinase ', 'transcriptional regulator, MarR family ', 'transcriptional regulator, MerR family ') 4.0\n",
    "0.043665819921042584\n",
    "*****\n",
    "15 ('AraC family transcriptional regulator ', 'ArsR family transcriptional regulator ', 'AsnC family transcriptional regulator ', 'LacI family transcription regulator ', 'PadR family transcriptional regulator ', 'TetR family transcriptional regulator ') 3.0\n",
    "0.0026071569079719097\n",
    "*****\n",
    "16 ('AraC family transcriptional regulator ', 'ArsR family transcriptional regulator ', 'AsnC family transcriptional regulator ', 'LacI family transcription regulator ', 'PadR family transcriptional regulator ', 'transcriptional regulator, SARP family ') 3.0\n",
    "0.00025204035521723245\n",
    "*****\n",
    "18 ('AraC family transcriptional regulator ', 'ArsR family transcriptional regulator ', 'AsnC family transcriptional regulator ', 'PadR family transcriptional regulator ', 'TetR family transcriptional regulator ', 'transcriptional regulator, SARP family ') 3.0\n",
    "0.03228691108523353\n",
    "*****\n",
    "29 ('ArsR family transcriptional regulator ', 'AsnC family transcriptional regulator ', 'LacI family transcription regulator ', 'PadR family transcriptional regulator ', 'TetR family transcriptional regulator ', 'transcriptional regulator, SARP family ') 3.0\n",
    "0.010964606182162983\n",
    "*****\n",
    "48 ('AraC family transcriptional regulator ', 'AsnC family transcriptional regulator ', 'LacI family transcription regulator ', 'LysR family transcriptional regulator ', 'MarR family transcriptional regulator ', 'sigma-54 dependent trancsriptional regulator ') 2.0\n",
    "0.009264475031112687\n",
    "*****\n",
    "111 ('AsnC family transcriptional regulator ', 'GntR family transcriptional regulator ', 'LacI family transcription regulator ', 'MarR family transcriptional regulator ', 'sigma-54 dependent trancsriptional regulator ', 'transcriptional regulator, SARP family ') 2.0\n",
    "0.012973427227664319\n",
    "*****\n",
    "14\n",
    "```"
   ]
  },
  {
   "cell_type": "code",
   "execution_count": 233,
   "id": "12470ffc",
   "metadata": {},
   "outputs": [],
   "source": [
    "def report_n_highest(combinations, n=10):\n",
    "    \"\"\"\n",
    "    reports the n most frequently occuring combinations, regardless of p-value\n",
    "    \"\"\"\n",
    "    for i in range(n):\n",
    "        key = list(combinations.keys())[i]\n",
    "        count = combinations[key]\n",
    "        print(key, count)\n",
    "        print(\"***\")\n",
    "    "
   ]
  },
  {
   "cell_type": "code",
   "execution_count": 239,
   "id": "ce7269af",
   "metadata": {},
   "outputs": [],
   "source": [
    "report_n_highest(combs_2)"
   ]
  },
  {
   "cell_type": "markdown",
   "id": "6d0de443",
   "metadata": {},
   "source": [
    "### Expected output from above\n",
    "```\n",
    "('TetR family transcriptional regulator ', 'sensor histidine kinase ') 737.0\n",
    "***\n",
    "('TetR family transcriptional regulator ', 'transcriptional regulator, SARP family ') 718.0\n",
    "***\n",
    "('LysR family transcriptional regulator ', 'TetR family transcriptional regulator ') 676.0\n",
    "***\n",
    "('MarR family transcriptional regulator ', 'TetR family transcriptional regulator ') 530.0\n",
    "***\n",
    "('sensor histidine kinase ', 'transcriptional regulator, SARP family ') 481.0\n",
    "***\n",
    "('RNA polymerase, sigma-24 subunit, ECF subfamily ', 'TetR family transcriptional regulator ') 433.0\n",
    "***\n",
    "('GntR family transcriptional regulator ', 'TetR family transcriptional regulator ') 426.0\n",
    "***\n",
    "('AraC family transcriptional regulator ', 'TetR family transcriptional regulator ') 387.0\n",
    "***\n",
    "('TetR family transcriptional regulator ', 'transcriptional regulator, MerR family ') 342.0\n",
    "***\n",
    "('LysR family transcriptional regulator ', 'sensor histidine kinase ') 323.0\n",
    "***\n",
    "```"
   ]
  },
  {
   "cell_type": "code",
   "execution_count": 240,
   "id": "32b9d240",
   "metadata": {},
   "outputs": [],
   "source": [
    "report_n_highest(combs_3)"
   ]
  },
  {
   "cell_type": "markdown",
   "id": "4635fee7",
   "metadata": {},
   "source": [
    "### Expected output from above\n",
    "```\n",
    "('TetR family transcriptional regulator ', 'sensor histidine kinase ', 'transcriptional regulator, SARP family ') 197.0\n",
    "***\n",
    "('LysR family transcriptional regulator ', 'TetR family transcriptional regulator ', 'sensor histidine kinase ') 176.0\n",
    "***\n",
    "('MarR family transcriptional regulator ', 'TetR family transcriptional regulator ', 'sensor histidine kinase ') 149.0\n",
    "***\n",
    "('LysR family transcriptional regulator ', 'TetR family transcriptional regulator ', 'transcriptional regulator, SARP family ') 145.0\n",
    "***\n",
    "('GntR family transcriptional regulator ', 'TetR family transcriptional regulator ', 'sensor histidine kinase ') 121.0\n",
    "***\n",
    "('GntR family transcriptional regulator ', 'TetR family transcriptional regulator ', 'transcriptional regulator, SARP family ') 107.0\n",
    "***\n",
    "('LysR family transcriptional regulator ', 'RNA polymerase, sigma-24 subunit, ECF subfamily ', 'TetR family transcriptional regulator ') 103.0\n",
    "***\n",
    "('RNA polymerase, sigma-24 subunit, ECF subfamily ', 'TetR family transcriptional regulator ', 'transcriptional regulator, SARP family ') 98.0\n",
    "***\n",
    "('LysR family transcriptional regulator ', 'sensor histidine kinase ', 'transcriptional regulator, SARP family ') 97.0\n",
    "***\n",
    "('MarR family transcriptional regulator ', 'TetR family transcriptional regulator ', 'transcriptional regulator, SARP family ') 92.0\n",
    "***\n",
    "```"
   ]
  },
  {
   "cell_type": "code",
   "execution_count": 241,
   "id": "62c7ae62",
   "metadata": {},
   "outputs": [],
   "source": [
    "report_n_highest(combs_4)"
   ]
  },
  {
   "cell_type": "markdown",
   "id": "6b00d1ec",
   "metadata": {},
   "source": [
    "### Expected output from above\n",
    "```\n",
    "('LysR family transcriptional regulator ', 'TetR family transcriptional regulator ', 'sensor histidine kinase ', 'transcriptional regulator, SARP family ') 52.0\n",
    "***\n",
    "('GntR family transcriptional regulator ', 'MarR family transcriptional regulator ', 'TetR family transcriptional regulator ', 'sensor histidine kinase ') 41.0\n",
    "***\n",
    "('GntR family transcriptional regulator ', 'TetR family transcriptional regulator ', 'sensor histidine kinase ', 'transcriptional regulator, SARP family ') 32.0\n",
    "***\n",
    "('LacI family transcription regulator ', 'LysR family transcriptional regulator ', 'TetR family transcriptional regulator ', 'sensor histidine kinase ') 32.0\n",
    "***\n",
    "('MarR family transcriptional regulator ', 'TetR family transcriptional regulator ', 'sensor histidine kinase ', 'transcriptional regulator, SARP family ') 32.0\n",
    "***\n",
    "('TetR family transcriptional regulator ', 'sensor histidine kinase ', 'transcriptional regulator, MerR family ', 'transcriptional regulator, SARP family ') 32.0\n",
    "***\n",
    "('LysR family transcriptional regulator ', 'RNA polymerase, sigma-24 subunit, ECF subfamily ', 'TetR family transcriptional regulator ', 'transcriptional regulator, SARP family ') 31.0\n",
    "***\n",
    "('GntR family transcriptional regulator ', 'LysR family transcriptional regulator ', 'TetR family transcriptional regulator ', 'transcriptional regulator, SARP family ') 28.0\n",
    "***\n",
    "('LysR family transcriptional regulator ', 'MarR family transcriptional regulator ', 'TetR family transcriptional regulator ', 'sensor histidine kinase ') 28.0\n",
    "***\n",
    "('LysR family transcriptional regulator ', 'TetR family transcriptional regulator ', 'sensor histidine kinase ', 'transcriptional regulator, MerR family ') 27.0\n",
    "***\n",
    "```"
   ]
  },
  {
   "cell_type": "code",
   "execution_count": 242,
   "id": "a4c8f922",
   "metadata": {},
   "outputs": [],
   "source": [
    "report_n_highest(combs_5)"
   ]
  },
  {
   "cell_type": "markdown",
   "id": "0044b042",
   "metadata": {},
   "source": [
    "### Expected output from above\n",
    "```\n",
    "('LysR family transcriptional regulator ', 'RNA polymerase, sigma-24 subunit, ECF subfamily ', 'TetR family transcriptional regulator ', 'biosynthetic-additional (rule-based-clusters) Pkinase', 'transcriptional regulator, SARP family ') 16.0\n",
    "***\n",
    "('LysR family transcriptional regulator ', 'TetR family transcriptional regulator ', 'sensor histidine kinase ', 'transcriptional regulator, MerR family ', 'transcriptional regulator, SARP family ') 14.0\n",
    "***\n",
    "('LacI family transcription regulator ', 'LysR family transcriptional regulator ', 'TetR family transcriptional regulator ', 'transcriptional regulator, MarR family ', 'transcriptional regulator, MerR family ') 11.0\n",
    "***\n",
    "('GntR family transcriptional regulator ', 'LysR family transcriptional regulator ', 'RNA polymerase, sigma-24 subunit, ECF subfamily ', 'sensor histidine kinase ', 'transcriptional regulator, MerR family ') 10.0\n",
    "***\n",
    "('AraC family transcriptional regulator ', 'LacI family transcription regulator ', 'PadR family transcriptional regulator ', 'TetR family transcriptional regulator ', 'transcriptional regulator, MerR family ') 9.0\n",
    "***\n",
    "('GntR family transcriptional regulator ', 'MarR family transcriptional regulator ', 'TetR family transcriptional regulator ', 'sensor histidine kinase ', 'transcriptional regulator, MerR family ') 9.0\n",
    "***\n",
    "('LysR family transcriptional regulator ', 'MarR family transcriptional regulator ', 'TetR family transcriptional regulator ', 'sensor histidine kinase ', 'transcriptional regulator, SARP family ') 9.0\n",
    "***\n",
    "('GntR family transcriptional regulator ', 'LysR family transcriptional regulator ', 'RNA polymerase, sigma-24 subunit, ECF subfamily ', 'TetR family transcriptional regulator ', 'transcriptional regulator, SARP family ') 8.0\n",
    "***\n",
    "('GntR family transcriptional regulator ', 'LysR family transcriptional regulator ', 'TetR family transcriptional regulator ', 'sensor histidine kinase ', 'transcriptional regulator, SARP family ') 8.0\n",
    "***\n",
    "('LacI family transcription regulator ', 'LysR family transcriptional regulator ', 'MarR family transcriptional regulator ', 'TetR family transcriptional regulator ', 'sensor histidine kinase ') 8.0\n",
    "***\n",
    "```"
   ]
  },
  {
   "cell_type": "code",
   "execution_count": 243,
   "id": "d7ae4085",
   "metadata": {},
   "outputs": [],
   "source": [
    "report_n_highest(combs_6)"
   ]
  },
  {
   "cell_type": "markdown",
   "id": "e764399c",
   "metadata": {},
   "source": [
    "### Expected output from above\n",
    "\n",
    "```\n",
    "('GntR family transcriptional regulator ', 'MarR family transcriptional regulator ', 'PadR family transcriptional regulator ', 'TetR family transcriptional regulator ', 'sensor histidine kinase ', 'transcriptional regulator, MerR family ') 5.0\n",
    "***\n",
    "('LacI family transcription regulator ', 'LysR family transcriptional regulator ', 'MarR family transcriptional regulator ', 'TetR family transcriptional regulator ', 'cold-shock DNA-binding domain protein ', 'sensor histidine kinase ') 5.0\n",
    "***\n",
    "('AraC family transcriptional regulator ', 'GntR family transcriptional regulator ', 'IclR family transcriptional regulator ', 'LysR family transcriptional regulator ', 'TetR family transcriptional regulator ', 'transcriptional regulator, SARP family ') 4.0\n",
    "***\n",
    "('AraC family transcriptional regulator ', 'LacI family transcription regulator ', 'LysR family transcriptional regulator ', 'TetR family transcriptional regulator ', 'cold-shock DNA-binding domain protein ', 'sensor histidine kinase ') 4.0\n",
    "***\n",
    "('ArsR family transcriptional regulator ', 'GntR family transcriptional regulator ', 'LysR family transcriptional regulator ', 'PadR family transcriptional regulator ', 'RNA polymerase, sigma-24 subunit, ECF subfamily ', 'TetR family transcriptional regulator ') 4.0\n",
    "***\n",
    "('ArsR family transcriptional regulator ', 'GntR family transcriptional regulator ', 'LysR family transcriptional regulator ', 'PadR family transcriptional regulator ', 'RNA polymerase, sigma-24 subunit, ECF subfamily ', 'transcriptional regulator, SARP family ') 4.0\n",
    "***\n",
    "('ArsR family transcriptional regulator ', 'GntR family transcriptional regulator ', 'LysR family transcriptional regulator ', 'PadR family transcriptional regulator ', 'TetR family transcriptional regulator ', 'transcriptional regulator, SARP family ') 4.0\n",
    "***\n",
    "('ArsR family transcriptional regulator ', 'GntR family transcriptional regulator ', 'LysR family transcriptional regulator ', 'RNA polymerase, sigma-24 subunit, ECF subfamily ', 'TetR family transcriptional regulator ', 'transcriptional regulator, SARP family ') 4.0\n",
    "***\n",
    "('ArsR family transcriptional regulator ', 'GntR family transcriptional regulator ', 'PadR family transcriptional regulator ', 'RNA polymerase, sigma-24 subunit, ECF subfamily ', 'TetR family transcriptional regulator ', 'transcriptional regulator, SARP family ') 4.0\n",
    "***\n",
    "('ArsR family transcriptional regulator ', 'GntR family transcriptional regulator ', 'RNA polymerase, sigma-24 subunit, ECF subfamily ', 'TetR family transcriptional regulator ', 'sensor histidine kinase ', 'transcriptional regulator, MerR family ') 4.0\n",
    "***\n",
    "```"
   ]
  },
  {
   "cell_type": "code",
   "execution_count": null,
   "id": "01782156",
   "metadata": {},
   "outputs": [],
   "source": []
  }
 ],
 "metadata": {
  "kernelspec": {
   "display_name": "Python 3 (ipykernel)",
   "language": "python",
   "name": "python3"
  },
  "language_info": {
   "codemirror_mode": {
    "name": "ipython",
    "version": 3
   },
   "file_extension": ".py",
   "mimetype": "text/x-python",
   "name": "python",
   "nbconvert_exporter": "python",
   "pygments_lexer": "ipython3",
   "version": "3.8.16"
  }
 },
 "nbformat": 4,
 "nbformat_minor": 5
}
